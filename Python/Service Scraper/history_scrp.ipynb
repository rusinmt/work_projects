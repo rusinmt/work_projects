{
 "cells": [2],
 "metadata": {},
 "nbformat": 4,
 "nbformat_minor": 5
}
